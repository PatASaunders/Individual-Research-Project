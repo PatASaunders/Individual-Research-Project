{
 "cells": [
  {
   "cell_type": "code",
   "execution_count": null,
   "metadata": {},
   "outputs": [],
   "source": [
    "#searching kg and bhp\n",
    "#site: https://www.carfolio.com/search/\n",
    "#search name\n",
    "#click Sort descending\n",
    "#choose max_found(2015:2019)\n",
    "#choose name with the fewest character count from search term\n",
    "#pick bhp and kg\n",
    "#append info to python database\n",
    "\n",
    "\n",
    "\n",
    "\n",
    "\n"
   ]
  },
  {
   "cell_type": "code",
   "execution_count": 61,
   "metadata": {},
   "outputs": [],
   "source": [
    "import pandas as pd\n",
    "from bs4 import BeautifulSoup as bs\n",
    "import requests\n",
    "import re\n",
    "import numpy as np\n",
    "from selenium import webdriver\n",
    "from selenium.webdriver.common.keys import Keys\n",
    "import time\n",
    "from selenium.common.exceptions import NoSuchElementException   \n",
    "\n",
    "data = pd.read_excel('C:\\\\Users\\\\Patrice\\\\Desktop\\\\Classes\\\\PIR\\\\Dataset_V1.2.xlsx')\n",
    "data.head()\n",
    "carlist=[]\n",
    "\n",
    "for name in data.DivCar:\n",
    "    dict_name = {'name':name, 'kg':float(0),'bhp':float(0)}\n",
    "    carlist.append(dict_name)\n",
    "\n"
   ]
  },
  {
   "cell_type": "code",
   "execution_count": 64,
   "metadata": {},
   "outputs": [
    {
     "name": "stdout",
     "output_type": "stream",
     "text": [
      "1\n",
      "{'name': 'ACURA NSX', 'kg': 1725.0, 'bhp': 373.0}\n",
      "1\n",
   ]
   "source": [
    "\n",
    "#definir le wedriver et la page web qui va nous intéresser\n",
    "\n",
    "driver = webdriver.Chrome('C:\\\\Users\\\\Patrice\\\\Desktop\\\\chromedriver.exe') \n",
    "driver.get('https://www.carfolio.com/search/');\n",
    "\n",
    "\n",
    "#pour chaque voiture dans le dictionnaire, on va faire une recherche\n",
    "\n",
    "for car in carlist:\n",
    "    driver.get('https://www.carfolio.com/search/')\n",
    "    in_y1       = driver.find_element_by_xpath(\"//div[3]/div/div/input\")\n",
    "    in_y2       = driver.find_element_by_xpath(\"//input[2]\")\n",
    "    in_name     = driver.find_element_by_xpath(\"//div/div/input\")\n",
    "    search_but  = driver.find_element_by_xpath(\"//p[29]/input\")\n",
    "    weight      = []\n",
    "    bhp         = []\n",
    "    \n",
    "    \n",
    "    #on cherche entre 2015 et 2019, et on cherche le nom de la voiture\n",
    "    \n",
    "    in_y1.send_keys('2015')\n",
    "    in_y2.send_keys('2019')\n",
    "    in_name.send_keys(car.get('name').lower())\n",
    "    search_but.click()\n",
    "    time.sleep(1)\n",
    "    \n",
    "    \n",
    "    #cherche s'il y a au moins un resultat, sinon on passe à la prochaine recherche\n",
    "    \n",
    "    try:\n",
    "        sort_year=driver.find_element_by_css_selector(\"[class^='longlist ui eight cards']\")\n",
    "        print(1)\n",
    "    except NoSuchElementException:\n",
    "        continue\n",
    "        print(0)\n",
    "    \n",
    "    \n",
    "    #si il y a seulement un resultat on peut pas trier par an, ducoup on doit voir si le bouton existe, et puis l'executer\n",
    "    \n",
    "    try:\n",
    "        sort_year=driver.find_element_by_xpath(\"//a/i\").click()\n",
    "    except NoSuchElementException:\n",
    "        pass\n",
    "    \n",
    "    \n",
    "    #chercher toute les informations differents qui nous interesse des résultats\n",
    "    \n",
    "    page = requests.get(driver.current_url)\n",
    "    soup = bs(page.text, 'html.parser')\n",
    "    \n",
    "    for bhp_result in soup.findAll(\"abbr\", {\"title\":\"brake horsepower\"}):\n",
    "        bhp.append(bhp_result.next_sibling)\n",
    "    \n",
    "    for w_result in soup.findAll(\"span\", {\"class\":\"weight\"}):\n",
    "        weight.append(re.sub(\"\\D\",\"\",str(w_result)))\n",
    "    \n",
    "    \n",
    "    car.update({'bhp':np.mean(list(np.float_(bhp))), 'kg':np.mean(list(np.float_(weight)))})\n",
    "    print(car)\n",
    "    \n",
    "\n",
    "\n",
    "\n",
    "\n",
    "#time.sleep(5)\n",
    "#search_box = driver.find_element_by_name('q')\n",
    "#search_box.send_keys('ChromeDriver')\n",
    "#search_box.submit()\n",
    "\n"
   ]
  },
  {
   "cell_type": "code",
   "execution_count": 66,
   "metadata": {},
   "outputs": [
    {
     "name": "stdout",
     "output_type": "stream",
     "text": [
      "1263\n"
     ]
    }
   ],
   "source": [
    "donelist = carlist"
   ]
  },
  {
   "cell_type": "code",
   "execution_count": null,
   "metadata": {},
   "outputs": [],
   "source": []
  }
 ],
 "metadata": {
  "kernelspec": {
   "display_name": "Python 3",
   "language": "python",
   "name": "python3"
  },
  "language_info": {
   "codemirror_mode": {
    "name": "ipython",
    "version": 3
   },
   "file_extension": ".py",
   "mimetype": "text/x-python",
   "name": "python",
   "nbconvert_exporter": "python",
   "pygments_lexer": "ipython3",
   "version": "3.7.0"
  }
 },
 "nbformat": 4,
 "nbformat_minor": 2
}
